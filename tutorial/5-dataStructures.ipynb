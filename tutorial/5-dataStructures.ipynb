{
 "cells": [
  {
   "cell_type": "markdown",
   "metadata": {},
   "source": [
    "# 数据结构\n",
    "\n",
    "这章会深入介绍一些前面已经了解过的只是，同时也增加一些新知识。\n",
    "\n",
    "## Lists类型\n",
    "\n",
    "list类型的所有方法如下：\n",
    "\n",
    "- list.append(x)\n",
    "    \n",
    "    给list增加一项，相当于a[len(a):] = [x]\n",
    "    \n",
    "- list.extend(iterable)\n",
    "\n",
    "    将iterable对象所有元素添加到list中，相当于a[len(a):] = iterable\n",
    "    \n",
    "- list.insert(i, x)\n",
    "\n",
    "    在给定的位置增加一个元素\n",
    "    \n",
    "- list.remove(x)\n",
    "\n",
    "    移除元素值为x的第一个元素，没有没有这样的项，则抛出ValueError异常。\n",
    "    \n",
    "- list.pop([i])  # []表示可选项\n",
    "\n",
    "    取出给定位置的元素，并且返回这些元素。没有没有元素，则返回并删除list中最后一个元素。\n",
    "    \n",
    "- list.clear()\n",
    "\n",
    "    删除所有的元素，相当于 del a[:]\n",
    "    \n",
    "- list.index(x [, start[, end]])\n",
    "\n",
    "    返回第一个元素值为x的元素索引。没有则抛出ValueError异常。可选项制定搜索的范围。\n",
    "    \n",
    "- list.count(x)\n",
    "\n",
    "    返回x出现的次数\n",
    "    \n",
    "- list.sort(key=None, reverse=False)\n",
    "\n",
    "    以in place方式对list进行排序，key制定排序值，reverse制定排序顺序。\n",
    "    \n",
    "- list.reverse()\n",
    "\n",
    "    以in place方式将元素逆序排放\n",
    "    \n",
    "- list.copy()\n",
    "\n",
    "    返回list的浅拷贝，相当于a[:]\n",
    "    \n",
    "    \n",
    "注意到insert, remove和sort函数只修改了list的值，并没有返回。其返回值是None，这是python里面对于mutable数据结构的设计原则。\n",
    "\n",
    "### 5.1.1 将list当作栈使用\n",
    "\n",
    "栈：后进先出。push->append, pop->pop\n",
    "\n",
    "### 5.1.2 将list当作队列使用\n",
    "\n",
    "队列: 先进先出。然而，list用作队列效率不够高。append和pop速度快，但是insert或者将第一个元素pop会很慢，因为其他元素都需要移动。\n",
    "\n",
    "为了实现队列，采用collections.deque。"
   ]
  },
  {
   "cell_type": "code",
   "execution_count": 5,
   "metadata": {},
   "outputs": [
    {
     "name": "stdout",
     "output_type": "stream",
     "text": [
      "deque(['Eric', 'John', 'Michael', 'terry', 'Graham'])\n",
      "Eric\n",
      "Graham\n"
     ]
    }
   ],
   "source": [
    "from collections import deque\n",
    "queue = deque(['Eric', 'John', 'Michael'])\n",
    "queue.append('terry')\n",
    "queue.append('Graham')\n",
    "print(queue)\n",
    "\n",
    "print(queue.popleft())\n",
    "print(queue.pop())"
   ]
  },
  {
   "cell_type": "markdown",
   "metadata": {},
   "source": [
    "### 5.1.3 List解析式\n",
    "\n",
    "List comprehensions提供了一种简洁的方式来创建list。"
   ]
  },
  {
   "cell_type": "code",
   "execution_count": 7,
   "metadata": {},
   "outputs": [
    {
     "name": "stdout",
     "output_type": "stream",
     "text": [
      "[0, 1, 4, 9, 16, 25, 36, 49, 64, 81]\n"
     ]
    }
   ],
   "source": [
    "squares = list(map(lambda x: x ** 2, range(10)))\n",
    "print(squares)"
   ]
  },
  {
   "cell_type": "code",
   "execution_count": 8,
   "metadata": {},
   "outputs": [
    {
     "name": "stdout",
     "output_type": "stream",
     "text": [
      "[0, 1, 4, 9, 16, 25, 36, 49, 64, 81]\n"
     ]
    }
   ],
   "source": [
    "squares = [x**2 for x in range(10)]\n",
    "print(squares)"
   ]
  },
  {
   "cell_type": "code",
   "execution_count": 9,
   "metadata": {},
   "outputs": [
    {
     "data": {
      "text/plain": [
       "[(1, 3), (1, 4), (2, 3), (2, 1), (2, 4), (3, 1), (3, 4)]"
      ]
     },
     "execution_count": 9,
     "metadata": {},
     "output_type": "execute_result"
    }
   ],
   "source": [
    "# 注意到，第一个for是外层循环\n",
    "[(x, y) for x in [1, 2, 3] for y in [3, 1, 4] if x != y]"
   ]
  },
  {
   "cell_type": "markdown",
   "metadata": {},
   "source": [
    "### 5.1.4 嵌套列表解析"
   ]
  },
  {
   "cell_type": "code",
   "execution_count": 10,
   "metadata": {},
   "outputs": [
    {
     "data": {
      "text/plain": [
       "[[1, 5, 9], [2, 6, 10], [3, 7, 11], [4, 8, 12]]"
      ]
     },
     "execution_count": 10,
     "metadata": {},
     "output_type": "execute_result"
    }
   ],
   "source": [
    "matrix = [[1, 2, 3, 4],\n",
    "            [5, 6, 7, 8],\n",
    "            [9, 10, 11, 12]]\n",
    "# 先考虑最外层是什么，然后考虑外层的每一个元素\n",
    "[[row[i] for row in matrix] for i in range(4)]"
   ]
  },
  {
   "cell_type": "code",
   "execution_count": 11,
   "metadata": {},
   "outputs": [
    {
     "data": {
      "text/plain": [
       "[(1, 5, 9), (2, 6, 10), (3, 7, 11), (4, 8, 12)]"
      ]
     },
     "execution_count": 11,
     "metadata": {},
     "output_type": "execute_result"
    }
   ],
   "source": [
    "# 应该更多使用内置函数\n",
    "list(zip(*matrix))"
   ]
  },
  {
   "cell_type": "markdown",
   "metadata": {},
   "source": [
    "## 5.2 del 声明\n",
    "\n",
    "del能够通过给定索引删除list中的元素，支持slice操作。"
   ]
  },
  {
   "cell_type": "code",
   "execution_count": 16,
   "metadata": {},
   "outputs": [],
   "source": [
    "a = list(range(10))\n",
    "\n",
    "del a[0]\n",
    "\n",
    "del a[2:4]\n",
    "\n",
    "del a[:]\n",
    "\n",
    "del a"
   ]
  },
  {
   "cell_type": "markdown",
   "metadata": {},
   "source": [
    "## 5.3 元组和序列\n",
    "\n",
    "元组可以嵌套，是immutable类型。但其元素可以是mutable类型。\n"
   ]
  },
  {
   "cell_type": "code",
   "execution_count": 19,
   "metadata": {},
   "outputs": [
    {
     "name": "stdout",
     "output_type": "stream",
     "text": [
      "(0, [1, 2, 2])\n",
      "(0, [1, 2, 2, 3])\n"
     ]
    }
   ],
   "source": [
    "a = 0, [1,2,2]\n",
    "print(a)\n",
    "a[1].append(3)\n",
    "print(a)\n",
    "\n",
    "# 零个元素和一个元素的元组声明\n",
    "empty = ()\n",
    "singleton = 'hello',"
   ]
  },
  {
   "cell_type": "markdown",
   "metadata": {},
   "source": [
    "## 5.4 集合\n",
    "\n",
    "集合是一个无序的集，其中没有重复的元素。基本用来成员测试和减少重复的项。集合对象同样支持数学运算如并集，交集，差集，补集等。\n",
    "\n",
    "大括号和set()函数用来创建集合。但是注意，创建空集合时只能使用set(),不能使用{}（这是字典）。同样支持列表解析式。"
   ]
  },
  {
   "cell_type": "code",
   "execution_count": 20,
   "metadata": {},
   "outputs": [
    {
     "name": "stdout",
     "output_type": "stream",
     "text": [
      "{'c', 'd', 'r', 'a', 'b'}\n",
      "{'l', 'c', 'm', 'z', 'a'}\n",
      "{'d', 'r', 'b'}\n",
      "{'l', 'c', 'd', 'r', 'm', 'z', 'a', 'b'}\n",
      "{'a', 'c'}\n",
      "{'d', 'r', 'm', 'z', 'l', 'b'}\n"
     ]
    }
   ],
   "source": [
    "a = set('abracadabra')\n",
    "b = set('alacazam')\n",
    "print(a)\n",
    "print(b)\n",
    "print(a - b)\n",
    "print(a | b)\n",
    "print(a & b)\n",
    "print(a ^ b)"
   ]
  },
  {
   "cell_type": "code",
   "execution_count": 21,
   "metadata": {},
   "outputs": [
    {
     "name": "stdout",
     "output_type": "stream",
     "text": [
      "{'d', 'r'}\n"
     ]
    }
   ],
   "source": [
    "a = {x for x in 'abracadabra' if x not in 'abc'}\n",
    "print(a)"
   ]
  },
  {
   "cell_type": "markdown",
   "metadata": {},
   "source": [
    "## 5.5 字典\n",
    "\n",
    "字典是通过关键字索引的，任何immutable类型都能成为关键字。元组也能成为关键字，如果只包含字符串，数字或者元组。如果直接或间接包含任何的mutable类型，则不能用作关键字。\n",
    "\n",
    "可以认为字典是键值对。键在一个字典中是唯一的，{}可以创建一个空字典。每一项键值对通过逗号分开，这也是字典输出的格式。\n",
    "\n",
    "主要的功能是通过键保存或者查询值。del可以用来删除键值对。如果键已经存在，赋值会覆盖之前的值。如果访问不存在的键，则会报错。\n",
    "\n",
    "执行list(d)会返回字典的键的列表，以插入的顺序。如果你想排序，则可以执行sorted(d)。判断单个键是否在字典中，可以采用in操作符。"
   ]
  },
  {
   "cell_type": "code",
   "execution_count": 22,
   "metadata": {},
   "outputs": [
    {
     "name": "stdout",
     "output_type": "stream",
     "text": [
      "{'sape': 4139, 'guido': 4127, 'jack': 4098}\n",
      "{'sape': 4139, 'guido': 4127, 'jack': 4098}\n"
     ]
    }
   ],
   "source": [
    "# 使用dict方法构建字典\n",
    "d = dict([('sape', 4139), ('guido', 4127), ('jack', 4098)])\n",
    "print(d)\n",
    "\n",
    "d = dict(sape=4139, guido=4127, jack=4098)\n",
    "print(d)"
   ]
  },
  {
   "cell_type": "code",
   "execution_count": 23,
   "metadata": {},
   "outputs": [
    {
     "data": {
      "text/plain": [
       "{2: 4, 4: 16, 6: 36}"
      ]
     },
     "execution_count": 23,
     "metadata": {},
     "output_type": "execute_result"
    }
   ],
   "source": [
    "# 使用字典解析式\n",
    "{x: x**2 for x in (2, 4, 6)}"
   ]
  },
  {
   "cell_type": "markdown",
   "metadata": {},
   "source": [
    "## 5.6 循环技术\n",
    "\n",
    "同时在两个或多个序列上循环，每个循环项可以通过zip函数整合。"
   ]
  },
  {
   "cell_type": "code",
   "execution_count": 24,
   "metadata": {},
   "outputs": [
    {
     "name": "stdout",
     "output_type": "stream",
     "text": [
      "What is your name?  It is lancelot.\n",
      "What is your quest?  It is the holy grail.\n",
      "What is your favorite color?  It is blue.\n"
     ]
    }
   ],
   "source": [
    "questions = ['name', 'quest', 'favorite color']\n",
    "answers = ['lancelot', 'the holy grail', 'blue']\n",
    "for q, a in zip(questions, answers):\n",
    "    print('What is your {0}?  It is {1}.'.format(q, a))"
   ]
  },
  {
   "cell_type": "code",
   "execution_count": 25,
   "metadata": {},
   "outputs": [
    {
     "name": "stdout",
     "output_type": "stream",
     "text": [
      "9\n",
      "7\n",
      "5\n",
      "3\n",
      "1\n"
     ]
    }
   ],
   "source": [
    "# 逆序循环\n",
    "for i in reversed(range(1, 11, 2)):\n",
    "    print(i)"
   ]
  },
  {
   "cell_type": "markdown",
   "metadata": {},
   "source": [
    "如果循环中需要改变list的内容，那么创建一个新的list是一种更简单和安全的做法。\n",
    "\n",
    "## 5.7 条件判断\n",
    "\n",
    "在while和if语句中的条件判断可以包含任何的操作符。\n",
    "\n",
    "in/ not in, is/ not is(这只对mutable有用)。所有比较操作符优先级相同，低于算术操作符。\n",
    "\n",
    "比较可以是链式的，如a<b==c，则是判断a小于b并且b等于c\n",
    "\n",
    "比较结果可以通过布尔操作符组合，and, or 以及not。这些优先级比比较操作符更低。而在这三者中，not优先级最高，or优先级最低。表达式复杂时，最好通过括号来表明意图。\n",
    "\n",
    "布尔操作符and和or称为短路操作符，从左往右运算，当结果确定时则停止运算。"
   ]
  },
  {
   "cell_type": "code",
   "execution_count": 26,
   "metadata": {},
   "outputs": [],
   "source": [
    "string1, string2, string3 = '', 'Trondheim', 'Hammer Dance'\n",
    "non_null = string1 or string2 or string3"
   ]
  },
  {
   "cell_type": "code",
   "execution_count": 27,
   "metadata": {},
   "outputs": [
    {
     "data": {
      "text/plain": [
       "'Trondheim'"
      ]
     },
     "execution_count": 27,
     "metadata": {},
     "output_type": "execute_result"
    }
   ],
   "source": [
    "non_null"
   ]
  },
  {
   "cell_type": "code",
   "execution_count": 28,
   "metadata": {},
   "outputs": [
    {
     "ename": "SyntaxError",
     "evalue": "invalid syntax (<ipython-input-28-ff9ca35f0873>, line 2)",
     "output_type": "error",
     "traceback": [
      "\u001b[0;36m  File \u001b[0;32m\"<ipython-input-28-ff9ca35f0873>\"\u001b[0;36m, line \u001b[0;32m2\u001b[0m\n\u001b[0;31m    if a = 11:\u001b[0m\n\u001b[0m         ^\u001b[0m\n\u001b[0;31mSyntaxError\u001b[0m\u001b[0;31m:\u001b[0m invalid syntax\n"
     ]
    }
   ],
   "source": [
    "# 赋值不能在表达式内部进行！\n",
    "a = 10\n",
    "if a = 11:\n",
    "    print(a)"
   ]
  },
  {
   "cell_type": "markdown",
   "metadata": {},
   "source": [
    "## 5.8 比较序列和其他类型\n",
    "\n",
    "序列里面的元素依次比较。"
   ]
  }
 ],
 "metadata": {
  "kernelspec": {
   "display_name": "Python 3",
   "language": "python",
   "name": "python3"
  },
  "language_info": {
   "codemirror_mode": {
    "name": "ipython",
    "version": 3
   },
   "file_extension": ".py",
   "mimetype": "text/x-python",
   "name": "python",
   "nbconvert_exporter": "python",
   "pygments_lexer": "ipython3",
   "version": "3.7.2"
  }
 },
 "nbformat": 4,
 "nbformat_minor": 2
}

{
 "cells": [
  {
   "cell_type": "markdown",
   "metadata": {},
   "source": [
    "# 错误和异常\n",
    "\n",
    "## 8.1 语法错误\n",
    "\n",
    "## 8.2 异常\n",
    "\n",
    "## 8.3 解决异常\n",
    "\n",
    "try ... except ... else(如果try没有抛出异常则执行)\n",
    "\n",
    "## 8.4 抛出异常\n",
    "\n",
    "raise NameError('HiThere')\n",
    "\n",
    "## 8.5 用户自定义异常\n",
    "\n",
    "## 8.6 定义清洗动作\n",
    "\n",
    "try ... finally(无论什么情况都必须执行)\n",
    "\n",
    "如果在异常没有被捕获处理或者在except（else）语句中又抛出新的异常，那么在执行完finally语句后会被重新抛出。"
   ]
  }
 ],
 "metadata": {
  "kernelspec": {
   "display_name": "Python 3",
   "language": "python",
   "name": "python3"
  },
  "language_info": {
   "codemirror_mode": {
    "name": "ipython",
    "version": 3
   },
   "file_extension": ".py",
   "mimetype": "text/x-python",
   "name": "python",
   "nbconvert_exporter": "python",
   "pygments_lexer": "ipython3",
   "version": "3.7.2"
  }
 },
 "nbformat": 4,
 "nbformat_minor": 2
}

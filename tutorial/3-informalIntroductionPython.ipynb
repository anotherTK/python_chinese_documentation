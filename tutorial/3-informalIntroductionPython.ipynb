{
 "cells": [
  {
   "cell_type": "markdown",
   "metadata": {},
   "source": [
    "# python正式介绍\n",
    "\n",
    "在接下来的例子中，输入和输出被区别于有还是没有提示符。为了重复例子，你必须在提示符后输入。哪些不是以提示符开始的字符都是输出。注意，你必须有多行输入才会出现次要提示符。\n",
    "\n",
    "在这手册中的许多例子，即使那些在交互模式中提示符，包括注释。在python中，注释以#字符开始，并且直到结束。注释可以出现在行开始，也可以在空格或代码后面，但不能在字符串里边。"
   ]
  },
  {
   "cell_type": "code",
   "execution_count": 1,
   "metadata": {},
   "outputs": [],
   "source": [
    "# 这是第一条注释\n",
    "spam = 1 # 这是第二条注释\n",
    "         # 。。。这是第三条\n",
    "text = \"# 这不是注释\""
   ]
  },
  {
   "cell_type": "markdown",
   "metadata": {},
   "source": [
    "## 3.1 使用python作为计算器\n",
    "\n",
    "### 3.1.1 Numbers\n",
    "\n",
    "解释其就像一个简单的计算器，你能够输入表达式，它会输出结果。表达式的语法是直白的，操作符+ - * /就像其他语言一样，括号用来组合。比如"
   ]
  },
  {
   "cell_type": "code",
   "execution_count": 2,
   "metadata": {},
   "outputs": [
    {
     "data": {
      "text/plain": [
       "1.6"
      ]
     },
     "execution_count": 2,
     "metadata": {},
     "output_type": "execute_result"
    }
   ],
   "source": [
    "8 / 5"
   ]
  },
  {
   "cell_type": "markdown",
   "metadata": {},
   "source": [
    "整型数是int类型，小数具有类型float，之后会介绍更多的树枝类型。\n",
    "\n",
    "除法（/）返回浮点型数据。为了做浮点除法，获得整型结果（丢弃小数部分），你可以使用//操作符："
   ]
  },
  {
   "cell_type": "code",
   "execution_count": 3,
   "metadata": {},
   "outputs": [
    {
     "data": {
      "text/plain": [
       "5"
      ]
     },
     "execution_count": 3,
     "metadata": {},
     "output_type": "execute_result"
    }
   ],
   "source": [
    "17 // 3"
   ]
  },
  {
   "cell_type": "markdown",
   "metadata": {},
   "source": [
    "使用 ** 操作符计算乘方"
   ]
  },
  {
   "cell_type": "code",
   "execution_count": 4,
   "metadata": {},
   "outputs": [
    {
     "data": {
      "text/plain": [
       "25"
      ]
     },
     "execution_count": 4,
     "metadata": {},
     "output_type": "execute_result"
    }
   ],
   "source": [
    "5 ** 2"
   ]
  },
  {
   "cell_type": "markdown",
   "metadata": {},
   "source": [
    "混合类型运算时，整型数据会被自动转换成浮点型数据。\n",
    "\n",
    "在交互模式中，最后打印的表达式的值会被赋给变量_。"
   ]
  },
  {
   "cell_type": "code",
   "execution_count": 5,
   "metadata": {},
   "outputs": [
    {
     "data": {
      "text/plain": [
       "79"
      ]
     },
     "execution_count": 5,
     "metadata": {},
     "output_type": "execute_result"
    }
   ],
   "source": [
    "45 + 34"
   ]
  },
  {
   "cell_type": "code",
   "execution_count": 6,
   "metadata": {},
   "outputs": [
    {
     "data": {
      "text/plain": [
       "113"
      ]
     },
     "execution_count": 6,
     "metadata": {},
     "output_type": "execute_result"
    }
   ],
   "source": [
    "_ + 34"
   ]
  },
  {
   "cell_type": "markdown",
   "metadata": {},
   "source": [
    "_变量应该被视为只读变量，不要显示的为它赋值。python除了支持整型，浮点型，十进制，分数，还支持复数，虚数部分用j表示，如3+5j\n",
    "\n",
    "### 3.1.2 Strings\n",
    "\n",
    "字符串采用单引号或双引号包围，\\可以转义。"
   ]
  },
  {
   "cell_type": "code",
   "execution_count": 7,
   "metadata": {},
   "outputs": [
    {
     "name": "stdout",
     "output_type": "stream",
     "text": [
      "doesn't\n",
      "doesn't\n",
      "\"hi\"\n"
     ]
    }
   ],
   "source": [
    "print('doesn\\'t')\n",
    "print(\"doesn't\")\n",
    "print('\"hi\"')"
   ]
  },
  {
   "cell_type": "markdown",
   "metadata": {},
   "source": [
    "如果不想采用\\进行转义，也可以使用raw字符串，在字符串前添加r"
   ]
  },
  {
   "cell_type": "code",
   "execution_count": 9,
   "metadata": {},
   "outputs": [
    {
     "name": "stdout",
     "output_type": "stream",
     "text": [
      "C:\\some\n",
      "ame\n",
      "C:\\some\\name\n"
     ]
    }
   ],
   "source": [
    "print('C:\\some\\name')\n",
    "print(r'C:\\some\\name')"
   ]
  },
  {
   "cell_type": "markdown",
   "metadata": {},
   "source": [
    "跨越多行的字符串，采用三引号包围。"
   ]
  },
  {
   "cell_type": "code",
   "execution_count": 10,
   "metadata": {},
   "outputs": [
    {
     "name": "stdout",
     "output_type": "stream",
     "text": [
      "\n",
      "Usage: \n",
      "    -h\n",
      "    -H\n",
      "\n",
      "Usage:\n",
      "    -h\n",
      "    -H\n",
      "\n"
     ]
    }
   ],
   "source": [
    "print('''\n",
    "Usage: \n",
    "    -h\n",
    "    -H\n",
    "''')\n",
    "print('''\\\n",
    "Usage:\n",
    "    -h\n",
    "    -H\n",
    "''')"
   ]
  },
  {
   "cell_type": "code",
   "execution_count": 11,
   "metadata": {},
   "outputs": [
    {
     "data": {
      "text/plain": [
       "'Python'"
      ]
     },
     "execution_count": 11,
     "metadata": {},
     "output_type": "execute_result"
    }
   ],
   "source": [
    "# 只能两个都是字符串常量\n",
    "'Py' 'thon'"
   ]
  },
  {
   "cell_type": "code",
   "execution_count": 12,
   "metadata": {},
   "outputs": [
    {
     "name": "stdout",
     "output_type": "stream",
     "text": [
      "Put several strings to have them together\n"
     ]
    }
   ],
   "source": [
    "print('Put several strings'\n",
    "     ' to have them together')"
   ]
  },
  {
   "cell_type": "code",
   "execution_count": 13,
   "metadata": {},
   "outputs": [
    {
     "ename": "IndexError",
     "evalue": "string index out of range",
     "output_type": "error",
     "traceback": [
      "\u001b[0;31m---------------------------------------------------------------------------\u001b[0m",
      "\u001b[0;31mIndexError\u001b[0m                                Traceback (most recent call last)",
      "\u001b[0;32m<ipython-input-13-3663ddaba5da>\u001b[0m in \u001b[0;36m<module>\u001b[0;34m\u001b[0m\n\u001b[1;32m      3\u001b[0m \u001b[0mword\u001b[0m\u001b[0;34m[\u001b[0m\u001b[0;36m4\u001b[0m\u001b[0;34m:\u001b[0m\u001b[0;34m]\u001b[0m  \u001b[0;31m# 正确\u001b[0m\u001b[0;34m\u001b[0m\u001b[0;34m\u001b[0m\u001b[0m\n\u001b[1;32m      4\u001b[0m \u001b[0mword\u001b[0m\u001b[0;34m[\u001b[0m\u001b[0;36m42\u001b[0m\u001b[0;34m:\u001b[0m\u001b[0;34m]\u001b[0m \u001b[0;31m# 正确但是空值\u001b[0m\u001b[0;34m\u001b[0m\u001b[0;34m\u001b[0m\u001b[0m\n\u001b[0;32m----> 5\u001b[0;31m \u001b[0mword\u001b[0m\u001b[0;34m[\u001b[0m\u001b[0;36m42\u001b[0m\u001b[0;34m]\u001b[0m  \u001b[0;31m# 错误\u001b[0m\u001b[0;34m\u001b[0m\u001b[0;34m\u001b[0m\u001b[0m\n\u001b[0m",
      "\u001b[0;31mIndexError\u001b[0m: string index out of range"
     ]
    }
   ],
   "source": [
    "# 超出范围的切割没问题，但是超出范围的访问有问题\n",
    "word = 'python'\n",
    "word[4:]  # 正确 on\n",
    "word[42:] # 正确但是空值\n",
    "word[42]  # 错误"
   ]
  },
  {
   "cell_type": "markdown",
   "metadata": {},
   "source": [
    "python字符串的值是不能被改变的，是immutable类型。如word[0]='J'会报错。word[0:]='jathon'也会错。如果需要不同的字符串，需要创建一个新的。\n",
    "\n",
    "### 3.1.3 数组\n",
    "\n",
    "数组能够包含不同类型的数据，但一般是同一类型的。数组是mutable类型，可以更改元素值。"
   ]
  },
  {
   "cell_type": "code",
   "execution_count": 15,
   "metadata": {},
   "outputs": [
    {
     "name": "stdout",
     "output_type": "stream",
     "text": [
      "0,1,1,2,3,5,8,"
     ]
    }
   ],
   "source": [
    "# 先计算，后赋值，从左往右计算\n",
    "a, b= 0, 1\n",
    "while a < 10:\n",
    "    print(a, end=',')\n",
    "    a, b = b, a+b"
   ]
  },
  {
   "cell_type": "code",
   "execution_count": null,
   "metadata": {},
   "outputs": [],
   "source": []
  }
 ],
 "metadata": {
  "kernelspec": {
   "display_name": "Python 3",
   "language": "python",
   "name": "python3"
  },
  "language_info": {
   "codemirror_mode": {
    "name": "ipython",
    "version": 3
   },
   "file_extension": ".py",
   "mimetype": "text/x-python",
   "name": "python",
   "nbconvert_exporter": "python",
   "pygments_lexer": "ipython3",
   "version": "3.7.2"
  }
 },
 "nbformat": 4,
 "nbformat_minor": 2
}

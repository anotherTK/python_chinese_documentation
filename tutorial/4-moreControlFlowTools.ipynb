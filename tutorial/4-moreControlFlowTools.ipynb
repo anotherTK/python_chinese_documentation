{
 "cells": [
  {
   "cell_type": "markdown",
   "metadata": {},
   "source": [
    "# 更多的控制流\n",
    "\n",
    "如果需要在for循环的过程中进行修改，在迭代过程中做复制。比如通过slice操作："
   ]
  },
  {
   "cell_type": "code",
   "execution_count": 2,
   "metadata": {},
   "outputs": [],
   "source": [
    "words = ['cat', 'window', 'defense']\n",
    "for w in words[:]:\n",
    "    if len(w) > 3:\n",
    "        words.insert(0, w)"
   ]
  },
  {
   "cell_type": "code",
   "execution_count": 3,
   "metadata": {},
   "outputs": [
    {
     "data": {
      "text/plain": [
       "['defense', 'window', 'cat', 'window', 'defense']"
      ]
     },
     "execution_count": 3,
     "metadata": {},
     "output_type": "execute_result"
    }
   ],
   "source": [
    "words"
   ]
  },
  {
   "cell_type": "markdown",
   "metadata": {},
   "source": [
    "默认的参数是在函数定义的时候被验证："
   ]
  },
  {
   "cell_type": "code",
   "execution_count": 10,
   "metadata": {},
   "outputs": [
    {
     "name": "stdout",
     "output_type": "stream",
     "text": [
      "5\n"
     ]
    }
   ],
   "source": [
    "i = 5\n",
    "def f(arg=i):\n",
    "    print(arg)\n",
    "    \n",
    "i = 6\n",
    "f()"
   ]
  },
  {
   "cell_type": "markdown",
   "metadata": {},
   "source": [
    "但这只是相对immutable类型来说，对于mutable类型，如list等，<font color='red'>是会不断重新设置默认参数的。</font>\n",
    "\n",
    "函数内都绑定了固定的默认参数变量，当调用该函数时，没有提供该变量值，则选择绑定的默认变量，而如果默认变量是mutable类型，则它的值会一直变化。一定要注意操作！这个默认变量的属性是定义时候确定的（mutable或者imutable）"
   ]
  },
  {
   "cell_type": "code",
   "execution_count": 36,
   "metadata": {},
   "outputs": [
    {
     "name": "stdout",
     "output_type": "stream",
     "text": [
      "[1]\n",
      "[1, 2]\n",
      "[1, 2, 3]\n",
      "[1, 2, 3, 1]\n",
      "[1, 2, 3, 1, 2]\n",
      "[1, 2, 3, 1, 2, 3]\n",
      "[1]\n",
      "[1, 2, 3, 1, 2, 3, 1]\n"
     ]
    }
   ],
   "source": [
    "def f(a, L=[]):\n",
    "    L.append(a)\n",
    "    print(L)\n",
    "\n",
    "f(1)\n",
    "f(2)\n",
    "f(3)\n",
    "\n",
    "L = []\n",
    "f(1)\n",
    "f(2)\n",
    "f(3)\n",
    "\n",
    "f(1,[])\n",
    "f(1)"
   ]
  },
  {
   "cell_type": "code",
   "execution_count": 37,
   "metadata": {},
   "outputs": [
    {
     "name": "stdout",
     "output_type": "stream",
     "text": [
      "[5, 1, 5, 1]\n",
      "[5, 1, 1, 5, 1, 1]\n",
      "[5, 1, 1, 1, 5, 1, 1, 1]\n"
     ]
    }
   ],
   "source": [
    "i = [5]\n",
    "def f(arg=i):\n",
    "    arg.append(1)\n",
    "    arg = arg * 2\n",
    "    print(arg)\n",
    "    \n",
    "f()\n",
    "f()\n",
    "f()"
   ]
  },
  {
   "cell_type": "markdown",
   "metadata": {},
   "source": [
    "怎样避免这种情况的产生？！如果默认参数需要改变，则先判断是否为默认值，如果不是，则置为默认值。"
   ]
  },
  {
   "cell_type": "code",
   "execution_count": 23,
   "metadata": {},
   "outputs": [
    {
     "name": "stdout",
     "output_type": "stream",
     "text": [
      "[1, 1]\n",
      "[1, 2]\n",
      "[1, 3]\n",
      "[1]\n",
      "[2]\n",
      "[3]\n"
     ]
    }
   ],
   "source": [
    "def f(a, L=[1]):\n",
    "    if L != [1]:\n",
    "        L = [1]\n",
    "    L.append(a)\n",
    "    print(L)\n",
    "    \n",
    "f(1)\n",
    "f(2)\n",
    "f(3)\n",
    "\n",
    "def f(a, L=None):\n",
    "    if L is None:\n",
    "        L = []\n",
    "    L.append(a)\n",
    "    print(L)\n",
    "    \n",
    "f(1)\n",
    "f(2)\n",
    "f(3)"
   ]
  },
  {
   "cell_type": "markdown",
   "metadata": {},
   "source": [
    "但这种代码比较难维护，逻辑混乱，最好常量直接在内部定义，如"
   ]
  },
  {
   "cell_type": "code",
   "execution_count": 22,
   "metadata": {},
   "outputs": [
    {
     "name": "stdout",
     "output_type": "stream",
     "text": [
      "[1, 1]\n",
      "[1, 2]\n",
      "[1, 3]\n"
     ]
    }
   ],
   "source": [
    "def f(a, L=None):\n",
    "    x = [1]\n",
    "    if L is None:\n",
    "        L = x\n",
    "    L.append(a)\n",
    "    print(L)\n",
    "    \n",
    "f(1)\n",
    "f(2)\n",
    "f(3)"
   ]
  },
  {
   "cell_type": "markdown",
   "metadata": {},
   "source": [
    "### 总结一下\n",
    "\n",
    "如果默认参数采用imutable类型数据初始化，则后续运算过程中相当于复制一份进行运算，并不影响默认参数的初始化数据。但是如果是mutable类型，则在函数内部调用的时候相当于是引用，共享数据，修改该参数同样会修改绑定的数据。\n",
    "\n",
    "但比如list数据类型的乘法：\n",
    "```\n",
    "a = [1,1,1]\n",
    "id(a)\n",
    "a = a * 2 # a = [1,1,1,1,1,1]\n",
    "id(a)\n",
    "```\n",
    "发现a已经不是原来的a了！！！因此这种操作不会改变绑定的数据。\n",
    "但append操作会改变！\n",
    "\n",
    "<font color='red'>一般的，单纯的赋值是共享数据，但赋值运算符右侧有其他操作则符则是原数据的拷贝。</font>\n",
    "\n",
    "关键字参数，```*arguments, **keywords```， 传参的时候需要解析，list和字典分别采用```*， **```\n",
    "\n",
    "### 4.7.5 lambda表达式\n",
    "\n",
    "一些小匿名函数可以通过关键字lambda创建。lambda函数可以用在需要函数对象的地方，被语法限制为只有一条表达式。"
   ]
  },
  {
   "cell_type": "code",
   "execution_count": 1,
   "metadata": {},
   "outputs": [
    {
     "data": {
      "text/plain": [
       "2"
      ]
     },
     "execution_count": 1,
     "metadata": {},
     "output_type": "execute_result"
    }
   ],
   "source": [
    "def make_incrementor(n):\n",
    "    return lambda x: x + n\n",
    "\n",
    "f = make_incrementor(2)\n",
    "f(0)"
   ]
  },
  {
   "cell_type": "code",
   "execution_count": 3,
   "metadata": {},
   "outputs": [
    {
     "data": {
      "text/plain": [
       "[(1, 'one'), (3, 'three'), (2, 'two')]"
      ]
     },
     "execution_count": 3,
     "metadata": {},
     "output_type": "execute_result"
    }
   ],
   "source": [
    "pairs = [(1, 'one'), (2, 'two'), (3, 'three')]\n",
    "pairs.sort(key=lambda pair: pair[1])\n",
    "pairs"
   ]
  },
  {
   "cell_type": "markdown",
   "metadata": {},
   "source": [
    "### 4.7.6 文档字符串\n",
    "\n",
    "接下来是一些惯例，包括文档字符串的内容和格式。\n",
    "\n",
    "第一行应该是简短，精确描述对象的目的。简单来说，不应该不清晰的陈述对象名字和类型，因为这些对于其他方法是可以获得的。大写开头，句号结束。\n",
    "\n",
    "如果有多行，第二行应该空行，将摘要和其他描述分开。接下来的行应该分为几段分别描述调用的规则和结果。\n",
    "\n",
    "python解释器不要求多行缩进，因此如果需要的话工具应该处理缩进。"
   ]
  },
  {
   "cell_type": "code",
   "execution_count": 7,
   "metadata": {},
   "outputs": [
    {
     "name": "stdout",
     "output_type": "stream",
     "text": [
      "没有完成什么，只是写个文档\n",
      "    \n",
      "    不，真的，什么都没做。\n",
      "    \n",
      "不，真的，什么都没做。\n",
      "    \n"
     ]
    }
   ],
   "source": [
    "def my_function():\n",
    "    '''没有完成什么，只是写个文档\n",
    "    \n",
    "    不，真的，什么都没做。\n",
    "    \n",
    "不，真的，什么都没做。\n",
    "    '''\n",
    "    pass\n",
    "\n",
    "print(my_function.__doc__)"
   ]
  },
  {
   "cell_type": "markdown",
   "metadata": {},
   "source": [
    "### 函数注解\n",
    "\n",
    "函数注解完全是一个用户自定义的可选项。注解保存在__annotations__属性里面，对函数的其他部分没有任何影响。参数注解通过参数名后的冒号定义，后边可接其默认值。返回类型可以通过->定义，后边接返回类型。"
   ]
  },
  {
   "cell_type": "code",
   "execution_count": 8,
   "metadata": {},
   "outputs": [
    {
     "name": "stdout",
     "output_type": "stream",
     "text": [
      "Annotations: {'ham': <class 'str'>, 'eggs': <class 'str'>, 'return': <class 'str'>}\n",
      "Arguments: spam egg\n"
     ]
    },
    {
     "data": {
      "text/plain": [
       "'spam and egg'"
      ]
     },
     "execution_count": 8,
     "metadata": {},
     "output_type": "execute_result"
    }
   ],
   "source": [
    "def f(ham: str, eggs: str = 'egg') -> str:\n",
    "    print(\"Annotations:\", f.__annotations__)\n",
    "    print(\"Arguments:\", ham, eggs)\n",
    "    return ham + ' and ' +eggs\n",
    "\n",
    "f('spam')"
   ]
  },
  {
   "cell_type": "markdown",
   "metadata": {},
   "source": [
    "### 间奏曲： 编码风格\n",
    "\n",
    "现在你可以开始写更长，更复杂的python程序了，是时候谈谈编码风格。大部分的语言都能有多种风格类型，有一些可读性较好。使别人能够更容易读懂你的代码，接受一种 漂亮的编码风格。\n",
    "\n",
    "对于python而言，PEP8 已经把风格融合进来了。它支持可读性很高又很好看的编码风格，每一个python开发者应该阅读。这里有一些重要的点：\n",
    "- 使用4空格缩进，不要制表符\n",
    "- 一行不超过79个字符\n",
    "- 使用空行分隔函数和类，以及大代码块之间\n",
    "- 可能的话，注释单独写一行\n",
    "- 使用文档字符串\n",
    "- 操作符和逗号周围添加空格\n",
    "- 类采用驼峰命名法，函数名使用小写和下划线\n",
    "- 不要使用花哨的编码方式，utf-8挺好\n",
    "- 同样的，不要使用非ASCII字符"
   ]
  },
  {
   "cell_type": "code",
   "execution_count": null,
   "metadata": {},
   "outputs": [],
   "source": []
  }
 ],
 "metadata": {
  "kernelspec": {
   "display_name": "Python 3",
   "language": "python",
   "name": "python3"
  },
  "language_info": {
   "codemirror_mode": {
    "name": "ipython",
    "version": 3
   },
   "file_extension": ".py",
   "mimetype": "text/x-python",
   "name": "python",
   "nbconvert_exporter": "python",
   "pygments_lexer": "ipython3",
   "version": "3.7.2"
  }
 },
 "nbformat": 4,
 "nbformat_minor": 2
}

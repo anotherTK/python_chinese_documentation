{
 "cells": [
  {
   "cell_type": "markdown",
   "metadata": {},
   "source": [
    "# 输入和输出\n",
    "\n",
    "有几种方式呈现程序的输出，数据能够打印成人类可读的形式，或者写成文件供后续使用。\n",
    "\n",
    "## 7.1 输出格式\n",
    "\n",
    "到目前为止我们接触到两种写值的方式，表达式和print()函数。第三种方法是使用write()函数写入文件，标准输出文件是sys.stdout。\n",
    "\n",
    "你经常需要更多控制输出的格式，有如下的方法达到：\n",
    "\n",
    "- 采用格式化字符串。以f或F开始，在字符串内部，可以在{}之间写python表达式。\n",
    "- str.format()方法。{}里面可以写上格式化信息，如{:2.2%}\n",
    "- 直接操作字符串。\n",
    "\n",
    "采用repr()或者str()方法可以将任何对象转换为字符串。\n",
    "\n",
    "### 7.1.1 格式化字符串\n",
    "\n",
    "以f开头的字符串，也可以有格式控制符。表达式后面接：号。：后面接整数，表示最小的占位符。一些其他的修饰符，可以在格式化前将变量值进行转换，如'!a'应用ascii(), '!s'应用str(), '!r'应用repr()"
   ]
  },
  {
   "cell_type": "code",
   "execution_count": 1,
   "metadata": {},
   "outputs": [
    {
     "data": {
      "text/plain": [
       "'results of the 2019 translate'"
      ]
     },
     "execution_count": 1,
     "metadata": {},
     "output_type": "execute_result"
    }
   ],
   "source": [
    "year = 2019\n",
    "event = 'translate'\n",
    "f'results of the {year} {event}'"
   ]
  },
  {
   "cell_type": "code",
   "execution_count": 2,
   "metadata": {},
   "outputs": [
    {
     "name": "stdout",
     "output_type": "stream",
     "text": [
      "The value of pi is approximately 3.142.\n"
     ]
    }
   ],
   "source": [
    "import math\n",
    "print(f'The value of pi is approximately {math.pi:.3f}.')"
   ]
  },
  {
   "cell_type": "markdown",
   "metadata": {},
   "source": [
    "### 7.1.2 format函数\n",
    "\n",
    "{}里面的整数，用来表示format函数参数的位置。也可以通过关键字的方式传入。"
   ]
  },
  {
   "cell_type": "code",
   "execution_count": 3,
   "metadata": {},
   "outputs": [
    {
     "name": "stdout",
     "output_type": "stream",
     "text": [
      "This spam is absolutely horrible.\n"
     ]
    }
   ],
   "source": [
    "print('This {food} is {adjective}.'.format(food='spam', adjective='absolutely horrible'))"
   ]
  },
  {
   "cell_type": "code",
   "execution_count": 4,
   "metadata": {},
   "outputs": [
    {
     "name": "stdout",
     "output_type": "stream",
     "text": [
      "Jack: 4098; Sjoerd: 4127; Dcab: 8637678\n"
     ]
    }
   ],
   "source": [
    "# 直接传入字典\n",
    "table = {'Sjoerd': 4127, 'Jack': 4098, 'Dcab': 8637678}\n",
    "print('Jack: {0[Jack]:d}; Sjoerd: {0[Sjoerd]:d}; '\n",
    "        'Dcab: {0[Dcab]:d}'.format(table))"
   ]
  },
  {
   "cell_type": "markdown",
   "metadata": {},
   "source": [
    "### 7.1.3 人工字符串格式化\n",
    "\n",
    "str.rjust()方法通过在左侧添加若干占位符，达到给定的宽定。类似的，str.ljust(), str.center(). str.zfill()是给数字型字符串添加零。\n",
    "\n",
    "### 7.1.4 老式字符串格式化\n",
    "\n",
    "采用%操作符。\n",
    "\n",
    "## 7.2 读写文件\n",
    "\n",
    "open()函数返回一个文件对象，最常用的两个参数是open(filename, mode)。其中mode有'r' 'w' 'a' 'r+'(读写)\n",
    "\n",
    "一般地，文件通过文本模式't'打开，'b'是通过二进制格式打开。\n",
    "\n",
    "最好采用with语句，这样能够自动关闭文件流，就算出现了异常。\n",
    "\n",
    "### 7.1.2 文件对象的方法\n",
    "\n",
    "读取文件内容，调用f.read(size)方法。当size省略或者为负时，整个文件的内容会被读取并返回。如果达到了文件的末尾，f.read()会返回空字符串。\n",
    "\n",
    "f.readline()从文件中读单独一行。行末拥有'\\n'字符。当返回''时，文件结束，返回'\\n'则表示空行。\n",
    "\n",
    "一种更快的方式读取文件中的每一行可以通过循环的方式： for line in f: pass\n",
    "\n",
    "如果需要读取文件中所有的行，可以使用list(f)或者f.readlines()。\n",
    "\n",
    "f.write(string)函数将字符串写入文件中，并且返回写入的字符数。\n",
    "\n",
    "f.tell()返回一个整数表明当前文件对象所在位置。二进制模式是表示从开始计数的字节数，文本模式就是一个表征的数字。\n",
    "\n",
    "使用f.seek(offset, from_what)来改变文件对象的位置。移到参考点偏移offset的位置。from_what: 0表示开头， 1表示当前位置， 2表示文件结尾。 0是默认值。\n",
    "\n",
    "不是采用'b'模式打开的文件，只能从文件开头开始查找，有效的offset只能从f.tell()函数获得。\n",
    "\n",
    "### 7.1.2 采用json保存结构化数据\n",
    "\n",
    "将对象转为字符串称为序列化，反之称为反序列化。"
   ]
  },
  {
   "cell_type": "code",
   "execution_count": null,
   "metadata": {},
   "outputs": [],
   "source": []
  }
 ],
 "metadata": {
  "kernelspec": {
   "display_name": "Python 3",
   "language": "python",
   "name": "python3"
  },
  "language_info": {
   "codemirror_mode": {
    "name": "ipython",
    "version": 3
   },
   "file_extension": ".py",
   "mimetype": "text/x-python",
   "name": "python",
   "nbconvert_exporter": "python",
   "pygments_lexer": "ipython3",
   "version": "3.7.2"
  }
 },
 "nbformat": 4,
 "nbformat_minor": 2
}

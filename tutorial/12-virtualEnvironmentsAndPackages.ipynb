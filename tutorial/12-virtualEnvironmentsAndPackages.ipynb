{
 "cells": [
  {
   "cell_type": "markdown",
   "metadata": {},
   "source": [
    "# 虚拟环境和包\n",
    "\n",
    "## 12.1 简介\n",
    "\n",
    "python应用经常使用标准库以外的包和模块。应用有时需要特殊版本的库。\n",
    "\n",
    "这意味着需要创建虚拟环境，不用的应用可以使用不用的虚拟环境。\n",
    "\n",
    "## 12.2 创建虚拟环境\n",
    "\n",
    "通过venv模块创建和管理虚拟环境。\n",
    "\n",
    "```\n",
    "python3 -m venv tutorial-env\n",
    "```\n",
    "\n",
    "激活环境 `source tutorial-env/bin/activate`\n",
    "\n",
    "## 12.3 通过pip管理包\n",
    "\n",
    "- pip search\n",
    "- pip list\n",
    "- pip install \n",
    "- pip install -r requirements.txt\n",
    "- pip uninstall\n",
    "- pip install package==version\n",
    "- pip install --upgrade\n",
    "- pip show\n",
    "- pip freeze (输出类似list的已安装包)  [pip freeze > requirements.txt]"
   ]
  },
  {
   "cell_type": "code",
   "execution_count": null,
   "metadata": {},
   "outputs": [],
   "source": []
  }
 ],
 "metadata": {
  "kernelspec": {
   "display_name": "Python 3",
   "language": "python",
   "name": "python3"
  },
  "language_info": {
   "codemirror_mode": {
    "name": "ipython",
    "version": 3
   },
   "file_extension": ".py",
   "mimetype": "text/x-python",
   "name": "python",
   "nbconvert_exporter": "python",
   "pygments_lexer": "ipython3",
   "version": "3.7.2"
  }
 },
 "nbformat": 4,
 "nbformat_minor": 2
}

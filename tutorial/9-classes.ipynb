{
 "cells": [
  {
   "cell_type": "markdown",
   "metadata": {},
   "source": [
    "# 类\n",
    "\n",
    "类提供了一种绑定数据和函数的方法。创建一个类，创建一种新对象，允许新的实例。每个类的实例都有一些属性维持它的状态，并有相应的方法改变状态。\n",
    "\n",
    "## 9.1 关于命名和对象\n",
    "\n",
    "对象有个体性，同一个对象能够绑定多个名字。在语言中这被称为引用。\n",
    "\n",
    "## 9.2 python范围和命名空间\n",
    "\n",
    "命名空间是一种从名字到对象的映射。大部分的命名空间都采用python字典来实现，但那基本得不到关注，除了性能，今后还可能改变。关于命名空间的例子：built-in命名，模块中的全局命名，函数中的局部命名。在某种意义上，一个对象属性集合也构成命名空间。重要的是在不同命名空间中的名字没有任何关系。\n",
    "\n",
    "\n",
    "范围是Python程序的文本区域，可直接访问命名空间。这里的“可直接访问”意味着对名称的非限定引用会尝试在命名空间中查找名称。"
   ]
  },
  {
   "cell_type": "code",
   "execution_count": 1,
   "metadata": {},
   "outputs": [
    {
     "name": "stdout",
     "output_type": "stream",
     "text": [
      "After local assignment: test spam\n",
      "After nonlocal assignment: nonlocal spam\n",
      "After global assignment: nonlocal spam\n",
      "In global scope: global spam\n"
     ]
    }
   ],
   "source": [
    "def scope_test():\n",
    "    def do_local():\n",
    "        spam = \"local spam\"\n",
    "\n",
    "    def do_nonlocal():\n",
    "        nonlocal spam\n",
    "        spam = \"nonlocal spam\"\n",
    "\n",
    "    def do_global():\n",
    "        global spam\n",
    "        spam = \"global spam\"\n",
    "\n",
    "    spam = \"test spam\"\n",
    "    do_local()\n",
    "    print(\"After local assignment:\", spam)\n",
    "    do_nonlocal()\n",
    "    print(\"After nonlocal assignment:\", spam)\n",
    "    do_global()\n",
    "    print(\"After global assignment:\", spam)\n",
    "\n",
    "scope_test()\n",
    "print(\"In global scope:\", spam)"
   ]
  },
  {
   "cell_type": "markdown",
   "metadata": {},
   "source": [
    "所有实例公用的项应该避免使用mutable类型数据，如下列所示："
   ]
  },
  {
   "cell_type": "code",
   "execution_count": 2,
   "metadata": {},
   "outputs": [
    {
     "data": {
      "text/plain": [
       "['roll over', 'play dead']"
      ]
     },
     "execution_count": 2,
     "metadata": {},
     "output_type": "execute_result"
    }
   ],
   "source": [
    "class Dog:\n",
    "\n",
    "    tricks = []             # mistaken use of a class variable\n",
    "\n",
    "    def __init__(self, name):\n",
    "        self.name = name\n",
    "\n",
    "    def add_trick(self, trick):\n",
    "        self.tricks.append(trick)\n",
    "        \n",
    "d = Dog('Fido')\n",
    "e = Dog('Buddy')\n",
    "d.add_trick('roll over')\n",
    "e.add_trick('play dead')\n",
    "d.tricks"
   ]
  },
  {
   "cell_type": "markdown",
   "metadata": {},
   "source": [
    "### 9.5.1 多类继承\n",
    "\n",
    "python支持多类继承。\n",
    "\n",
    "## 9.6 私有变量\n",
    "\n",
    "“私有”变量，只能被对象内部访问，在python中不存在。但一般认为，以下划线开头的变量或函数应该作为不公开的部分。任何以两个下划线开头的名字__spam,会被替换成_classname__spam。\n",
    "\n",
    "## 9.8 迭代器\n",
    "\n",
    "## 9.9 生成器"
   ]
  }
 ],
 "metadata": {
  "kernelspec": {
   "display_name": "Python 3",
   "language": "python",
   "name": "python3"
  },
  "language_info": {
   "codemirror_mode": {
    "name": "ipython",
    "version": 3
   },
   "file_extension": ".py",
   "mimetype": "text/x-python",
   "name": "python",
   "nbconvert_exporter": "python",
   "pygments_lexer": "ipython3",
   "version": "3.7.2"
  }
 },
 "nbformat": 4,
 "nbformat_minor": 2
}
